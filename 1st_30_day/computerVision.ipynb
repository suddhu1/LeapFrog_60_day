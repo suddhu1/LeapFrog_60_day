{
 "cells": [
  {
   "cell_type": "code",
   "execution_count": 1,
   "id": "af05f06a",
   "metadata": {},
   "outputs": [],
   "source": [
    "import numpy as np\n",
    "import matplotlib.pyplot as plt\n",
    "import matplotlib.animation as animation\n",
    "from matplotlib.animation import PillowWriter\n",
    "\n",
    "# Time vector\n",
    "t = np.linspace(-1, 1, 1000)\n",
    "T = 2  # Period\n",
    "f0 = 1 / T  # Fundamental frequency\n",
    "\n",
    "# Function to approximate a square wave using Fourier Series\n",
    "def square_wave_approx(N):\n",
    "    y = np.zeros_like(t)\n",
    "    for n in range(1, N*2, 2):  # odd harmonics only\n",
    "        y += (4/np.pi) * (1/n) * np.sin(2 * np.pi * n * f0 * t)\n",
    "    return y\n",
    "\n",
    "# Original square wave\n",
    "square_wave = np.sign(np.sin(2 * np.pi * f0 * t))\n",
    "\n",
    "# Set up figure and axis\n",
    "fig, ax = plt.subplots(figsize=(8,5))\n",
    "line, = ax.plot([], [], lw=2)\n",
    "ax.plot(t, square_wave, 'k--', label='Square wave')\n",
    "ax.set_xlim(-1, 1)\n",
    "ax.set_ylim(-1.5, 1.5)\n",
    "ax.set_title('Fourier Series Approximation of a Square Wave')\n",
    "ax.set_xlabel('Time (s)')\n",
    "ax.set_ylabel('Amplitude')\n",
    "ax.grid(True)\n",
    "ax.legend()\n",
    "\n",
    "# Initialization function\n",
    "def init():\n",
    "    line.set_data([], [])\n",
    "    return line,\n",
    "\n",
    "# Update function for animation\n",
    "def update(N):\n",
    "    y = square_wave_approx(N)\n",
    "    line.set_data(t, y)\n",
    "    ax.set_title(f'Fourier Series Approximation: {N} terms')\n",
    "    return line,\n",
    "\n",
    "# Create animation\n",
    "ani = animation.FuncAnimation(fig, update, frames=range(1, 21), init_func=init,\n",
    "                               blit=True, interval=300, repeat=False)\n",
    "\n",
    "plt.close()  # Prevent static display\n",
    "desktop_path = 'Fourier_Square_Wave_Approximation.gif'\n",
    "ani.save(desktop_path, writer=PillowWriter(fps=3))\n"
   ]
  },
  {
   "cell_type": "code",
   "execution_count": null,
   "id": "ced3afa1",
   "metadata": {},
   "outputs": [],
   "source": []
  }
 ],
 "metadata": {
  "kernelspec": {
   "display_name": "venv",
   "language": "python",
   "name": "python3"
  },
  "language_info": {
   "codemirror_mode": {
    "name": "ipython",
    "version": 3
   },
   "file_extension": ".py",
   "mimetype": "text/x-python",
   "name": "python",
   "nbconvert_exporter": "python",
   "pygments_lexer": "ipython3",
   "version": "3.12.6"
  }
 },
 "nbformat": 4,
 "nbformat_minor": 5
}
